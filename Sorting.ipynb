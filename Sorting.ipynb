{
 "cells": [
  {
   "cell_type": "code",
   "execution_count": 1,
   "metadata": {},
   "outputs": [],
   "source": [
    "import numpy as np"
   ]
  },
  {
   "cell_type": "markdown",
   "metadata": {},
   "source": [
    "#### Testing values ####"
   ]
  },
  {
   "cell_type": "code",
   "execution_count": 2,
   "metadata": {
    "scrolled": true
   },
   "outputs": [],
   "source": [
    "p = [2, 2, 3, 1, 5, 0, 12, 13, -3, 159, 23, 2, 3 ,13, 24, 13]\n",
    "w = [int(np.random.uniform(-100,100)) for i in range (0,1000)]"
   ]
  },
  {
   "cell_type": "markdown",
   "metadata": {},
   "source": [
    "### Basic python sort function ### \n",
    "#### It is mostly how u will sort everything in python ####"
   ]
  },
  {
   "cell_type": "code",
   "execution_count": 3,
   "metadata": {
    "scrolled": true
   },
   "outputs": [
    {
     "data": {
      "text/plain": [
       "[-3, 0, 1, 2, 2, 2, 3, 3, 5, 12, 13, 13, 13, 23, 24, 159]"
      ]
     },
     "execution_count": 3,
     "metadata": {},
     "output_type": "execute_result"
    }
   ],
   "source": [
    "p.sort() #This one sorts the p itself\n",
    "sorted(p) #This one returns sorted p, without changing p\n"
   ]
  },
  {
   "cell_type": "markdown",
   "metadata": {},
   "source": [
    "## Bubble sort ## \n",
    "### Basic, n^2 algorithm ### \n",
    "### May be usefull when u need to sort just a few elements ###"
   ]
  },
  {
   "cell_type": "code",
   "execution_count": 4,
   "metadata": {},
   "outputs": [],
   "source": [
    "def bubble_sort(numbers): #simple, but n^2. However one of the fastests when sorting <10 elements\n",
    "    for i in range (0, len(p)):\n",
    "        for j in range (0, len(p)-1): #as range we take len(p)-1, as we will be comparing j element with j+1 element\n",
    "            if(numbers[j+1]<numbers[j]): numbers[j+1], numbers[j] = numbers[j], numbers[j+1] #That is basically a swap\n",
    "    return numbers"
   ]
  },
  {
   "cell_type": "code",
   "execution_count": 5,
   "metadata": {
    "scrolled": true
   },
   "outputs": [
    {
     "data": {
      "text/plain": [
       "[-3, 0, 1, 2, 2, 2, 3, 3, 5, 12, 13, 13, 13, 23, 24, 159]"
      ]
     },
     "execution_count": 5,
     "metadata": {},
     "output_type": "execute_result"
    }
   ],
   "source": [
    "bubble_sort(p)"
   ]
  },
  {
   "cell_type": "markdown",
   "metadata": {},
   "source": [
    "## Quick sort ##\n",
    "### nlogn ###\n",
    "### In this version, we always pick last element as a pivot. U can also pick first, random, or any other in fact ###"
   ]
  },
  {
   "cell_type": "code",
   "execution_count": 6,
   "metadata": {},
   "outputs": [],
   "source": [
    "def partition(numbers,start,end): # It is given an array from start to end, and it only affects this part of the array\n",
    "    pivot=numbers[end] # We pick the last element as the pivot\n",
    "    i = start       # i will be the place(index) where smaller element goes to. \n",
    "                    # i will be increased after inserting a smaller element\n",
    "    for j in range(start , end): \n",
    "        if   numbers[j] <= pivot:  # If the element is smaller or equal\n",
    "            numbers[i],numbers[j] = numbers[j],numbers[i] # We place it on the i spot\n",
    "            i = i+1 # We increase index for the potential next smaller element\n",
    "    numbers[i],numbers[end] = numbers[end],numbers[i] #After finishing, we put our pivot at the proper spot\n",
    "    return ( i ) #We return the current position of the pivot\n",
    "    \n",
    "def quick_sort(numbers, start, end): # Sorting array \"numbers\" from start to end. Recursive \n",
    "    if start < end: # If there is anything to be sorted\n",
    "        pi = partition(numbers,start,end) #Quick sort always starts with partition\n",
    "        #After partition we know that: \n",
    "        #1. Chosen element is in the correct position (called pivot)\n",
    "        #2. Elements bigger then pivot are on the right side\n",
    "        #3. Elements lower then pivot are on the left side\n",
    "        quick_sort(numbers, start, pi-1) #Then we sort the left side\n",
    "        quick_sort(numbers, pi+1, end) #And the right side\n",
    "    #U don't really need to return anything, as the given table will be sorted anyway"
   ]
  },
  {
   "cell_type": "code",
   "execution_count": 7,
   "metadata": {
    "scrolled": false
   },
   "outputs": [
    {
     "data": {
      "text/plain": [
       "[-3, 0, 1, 2, 2, 2, 3, 3, 5, 12, 13, 13, 13, 23, 24, 159]"
      ]
     },
     "execution_count": 7,
     "metadata": {},
     "output_type": "execute_result"
    }
   ],
   "source": [
    "quick_sort(p,0,len(p)-1)\n",
    "p"
   ]
  },
  {
   "cell_type": "markdown",
   "metadata": {},
   "source": [
    "## Memorising Quick sort ##\n",
    "### 12 lines, that you will use many times. Worth memorising ###"
   ]
  },
  {
   "cell_type": "code",
   "execution_count": 5,
   "metadata": {},
   "outputs": [],
   "source": [
    "def partition_short(numbers, start, end): #7 lines\n",
    "    i=start\n",
    "    for j in range(start, end):\n",
    "        if numbers[j]<=numbers[end]:\n",
    "            numbers[i],numbers[j],i=numbers[j],numbers[i],i+1\n",
    "    numbers[i],numbers[end]=numbers[end],numbers[i]\n",
    "    return i\n",
    "def quick_sort_short(numbers, start, end): #5 lines\n",
    "    if(start<end):\n",
    "        p=partition_short(numbers, start, end)\n",
    "        quick_sort_short(numbers, start, p-1)\n",
    "        quick_sort_short(numbers, p+1, end)"
   ]
  },
  {
   "cell_type": "code",
   "execution_count": 4,
   "metadata": {
    "scrolled": true
   },
   "outputs": [
    {
     "data": {
      "text/plain": [
       "[-3, 0, 1, 2, 2, 2, 3, 3, 5, 12, 13, 13, 13, 23, 24, 159]"
      ]
     },
     "execution_count": 4,
     "metadata": {},
     "output_type": "execute_result"
    }
   ],
   "source": [
    "quick_sort_short(p,0, len(p)-1)\n",
    "p"
   ]
  },
  {
   "cell_type": "markdown",
   "metadata": {},
   "source": [
    "## Heap sort ##\n",
    "### nlogn, but no one really uses it, becouse quick sort is faster ###"
   ]
  },
  {
   "cell_type": "code",
   "execution_count": 10,
   "metadata": {},
   "outputs": [],
   "source": [
    "def heapify(numbers, n, i): #numbers- table, n- size of heap, i - root index\n",
    "    # We will be doing this in and array, so left shild its 2 * i + 1, and right is 2 * i + 2\n",
    "    largest = i  # At first set largest as i (root)\n",
    "    l = 2 * i + 1     # left child = 2*i + 1 \n",
    "    r = 2 * i + 2     # right child = 2*i + 2 \n",
    "  \n",
    "    # Checking if left child is bigger then root\n",
    "    if l < n and numbers[i] < numbers[l]: #We need to check if root has left child (l < n)\n",
    "        largest = l \n",
    "  \n",
    "    # Checking if right child is bigger then root (or the left child, if it was allready bigger then root)\n",
    "    if r < n and numbers[largest] < numbers[r]: #We also need to chec if root has right child (r < n)\n",
    "        largest = r \n",
    "    #So basically \"largest\" its the biggest element out of root(i), left child(l) and right child(r)\n",
    "    if largest != i: #If biggest element is not the root, then we should switch biggest element with the root\n",
    "        numbers[i],numbers[largest] = numbers[largest],numbers[i] \n",
    "        heapify(numbers, n, largest) #We have to do this again, becouse we switched root and largest\n",
    "        \n",
    "def heap_sort(numbers): #Sorting table numbers\n",
    "    n = len(numbers) #Size of a heap\n",
    "    for i in range(n, -1, -1): #Building a max heap from the last element\n",
    "        heapify(numbers, n, i) #We use heapify FROM THE LAST element TO THE FIRST one\n",
    "    for i in range(n-1, 0, -1): #Extracting elements out of max heap. U can also make a new array for that\n",
    "        numbers[i], numbers[0] = numbers[0], numbers[i] #Biggest element has index 0 \n",
    "        #So we take it and put the at the end of the unsorted part of table (index i)\n",
    "        #\"i\" is also a size of the heap that we still need to heapify\n",
    "        heapify(numbers, i, 0) #After each extraction we need to make the max element be at first position again "
   ]
  },
  {
   "cell_type": "code",
   "execution_count": 12,
   "metadata": {
    "scrolled": true
   },
   "outputs": [
    {
     "data": {
      "text/plain": [
       "[-3, 0, 1, 2, 2, 2, 3, 3, 5, 12, 13, 13, 13, 23, 24, 159]"
      ]
     },
     "execution_count": 12,
     "metadata": {},
     "output_type": "execute_result"
    }
   ],
   "source": [
    "heap_sort(p)\n",
    "p"
   ]
  },
  {
   "cell_type": "markdown",
   "metadata": {},
   "source": [
    "## Memorising heap sort ##\n",
    "### If you want, u can keep heap sort clean and simple in 14 lines in python. However, you most probably won't ever use it ###"
   ]
  },
  {
   "cell_type": "code",
   "execution_count": 13,
   "metadata": {},
   "outputs": [],
   "source": [
    "def heapify_short(numbers, n, i): #7 lines\n",
    "    largest, left, right = i, 2 * i + 1, 2 * i + 2 \n",
    "    if l < n and numbers[i] < numbers[left]: largest = l \n",
    "    if r < n and numbers[largest] < numbers[r]: largest = r \n",
    "    if largest != i:\n",
    "        numbers[i],numbers[largest] = numbers[largest],numbers[i] \n",
    "        heapify(numbers, n, largest)\n",
    "        \n",
    "def heap_sort_short(numbers): #7 lines\n",
    "    for i in range(len(numbers), -1, -1):\n",
    "        heapify(numbers, len(numbers), i)\n",
    "    for i in range(len(numbers)-1, 0, -1):\n",
    "        numbers[i], numbers[0] = numbers[0], numbers[i]\n",
    "        heapify(numbers, i, 0)"
   ]
  },
  {
   "cell_type": "code",
   "execution_count": 14,
   "metadata": {},
   "outputs": [
    {
     "data": {
      "text/plain": [
       "[-3, 0, 1, 2, 2, 2, 3, 3, 5, 12, 13, 13, 13, 23, 24, 159]"
      ]
     },
     "execution_count": 14,
     "metadata": {},
     "output_type": "execute_result"
    }
   ],
   "source": [
    "heap_sort_short(p)\n",
    "p"
   ]
  },
  {
   "cell_type": "markdown",
   "metadata": {},
   "source": [
    "## Merge sort ##\n",
    "### Code from https://www.geeksforgeeks.org/merge-sort/ ###"
   ]
  },
  {
   "cell_type": "code",
   "execution_count": 16,
   "metadata": {},
   "outputs": [
    {
     "name": "stdout",
     "output_type": "stream",
     "text": [
      "Given array is\n",
      "12 11 13 5 6 7 \n",
      "Sorted array is: \n",
      "5 6 7 11 12 13 \n"
     ]
    }
   ],
   "source": [
    "# Python program for implementation of MergeSort \n",
    "def mergeSort(arr): \n",
    "    if len(arr) >1: \n",
    "        mid = len(arr)//2 #Finding the mid of the array \n",
    "        L = arr[:mid] # Dividing the array elements  \n",
    "        R = arr[mid:] # into 2 halves \n",
    "  \n",
    "        mergeSort(L) # Sorting the first half \n",
    "        mergeSort(R) # Sorting the second half \n",
    "  \n",
    "        i = j = k = 0\n",
    "          \n",
    "        # Copy data to temp arrays L[] and R[] \n",
    "        while i < len(L) and j < len(R): \n",
    "            if L[i] < R[j]: \n",
    "                arr[k] = L[i] \n",
    "                i+=1\n",
    "            else: \n",
    "                arr[k] = R[j] \n",
    "                j+=1\n",
    "            k+=1\n",
    "          \n",
    "        # Checking if any element was left \n",
    "        while i < len(L): \n",
    "            arr[k] = L[i] \n",
    "            i+=1\n",
    "            k+=1\n",
    "          \n",
    "        while j < len(R): \n",
    "            arr[k] = R[j] \n",
    "            j+=1\n",
    "            k+=1\n",
    "  \n",
    "# Code to print the list \n",
    "def printList(arr): \n",
    "    for i in range(len(arr)):         \n",
    "        print(arr[i],end=\" \") \n",
    "    print() \n",
    "  \n",
    "# driver code to test the above code \n",
    "if __name__ == '__main__': \n",
    "    arr = [12, 11, 13, 5, 6, 7]  \n",
    "    print (\"Given array is\", end=\"\\n\")  \n",
    "    printList(arr) \n",
    "    mergeSort(arr) \n",
    "    print(\"Sorted array is: \", end=\"\\n\") \n",
    "    printList(arr) \n",
    "  \n",
    "# This code is contributed by Mayank Khanna "
   ]
  },
  {
   "cell_type": "code",
   "execution_count": null,
   "metadata": {},
   "outputs": [],
   "source": []
  },
  {
   "cell_type": "markdown",
   "metadata": {},
   "source": [
    "## Zadanka :)\n",
    "1. Proszę zaproponować algorytm scalający k posortowanych tablic w jedną posortowaną tablicę. Łączna liczba elementów we wszystkich tablicach wynosi n. Algorytm powinien działać w czasie O(n*log(k))\n",
    "2. Proszę zaproponować strukturę danych przechowującą liczby naturalne. Struktura powinna mieć następujący interfejs: Insert(i) - wstawienie liczby do struktury i GetMedian() - zwraca medianę przechowywanego zbioru. Obie operacje powinny działać w czasie O(log(n))\n",
    "3. proszę zaproponiwać strukturę danych przechowującą liczby naturalne, mającą następujący interfejs:\n",
    "GetMax() - zwraca i usuwa największą liczbę w zbiorze, GetMin() - analogicznie, tylko najmniejszą.\n",
    "4. dana jest tablica liczb naturalnych inversją nazwywamy każdą taką parę indeksów i, j, że i<j i T[i]>T[j]. Proszę zaimplementować algorytm obliczający liczbę inwersji w danej tablicy. Czas działania powinien wynosić O(n*log(n))\n",
    "5.  Proszę zaimplementować algorytm QuickSort, tak aby głębokość stosu rekursji nie przekraczałą O(log(n))\n",
    "6. Dana jest tablica zawierająca liczby rzeczywiste. Różnych wartości w tablicy jest tylko log(n), gdzie n to rozmiar tablicy. \n",
    "   Proszę zaproponować algorytm sortujący tablicę w czasie O(nlog(log(n)). Wskazówka: problem da się rozwiącać wykorzystując algorytm wyszukiwania binarnego i dodatkową tablicę o rozmiarze log(n).\n",
    "7. Dany jest zbiór punktów na płaszczyźnie. Proszę zaimplementować algorytm znajdujący k punktów najbliższych punktowi (0,0):\n",
    "trzy wersje:\n",
    "- nlog(n)\n",
    "- nlog(k)\n",
    "- nlog(r), r - odległość najdajszego punktu. Ten algorytm nie wykorzystuje żadnej dodatkowej pamięci i nie oblicza faktycznych odległości od punktu (0,0), więc może się okazać najlepszym wyborem, jeśli współrzędne punktów są duże i zachodzi ryzyko przepełnienia typu int, podczas obliczania odległości."
   ]
  },
  {
   "cell_type": "code",
   "execution_count": null,
   "metadata": {},
   "outputs": [],
   "source": []
  }
 ],
 "metadata": {
  "kernelspec": {
   "display_name": "Python 3",
   "language": "python",
   "name": "python3"
  },
  "language_info": {
   "codemirror_mode": {
    "name": "ipython",
    "version": 3
   },
   "file_extension": ".py",
   "mimetype": "text/x-python",
   "name": "python",
   "nbconvert_exporter": "python",
   "pygments_lexer": "ipython3",
   "version": "3.7.4"
  }
 },
 "nbformat": 4,
 "nbformat_minor": 2
}
